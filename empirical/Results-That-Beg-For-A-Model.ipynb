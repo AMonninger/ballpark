{
 "cells": [
  {
   "cell_type": "markdown",
   "metadata": {},
   "source": [
    "<cite data-cite=\"6202365/5VEFIEGG\"></cite># Papers With Empirical Results That Beg For A Model"
   ]
  },
  {
   "cell_type": "markdown",
   "metadata": {},
   "source": [
    "## Monetary Policy When Households Have Debt: New Evidence on the Transmission Mechanism\n",
    "### <cite data-cite=\"undefined\"></cite>\n",
    "\n",
    "* Use the HH survey data for the US and the UK to show that the aggregate response of consumption to interest rate changes is driven by HHs with a mortgage.\n",
    "* Show that the general equilibrium effects on HH income couple with balance-sheet-driven heterogeneity in the marginal propensity to consume play a key role in the transmission of monetary policy.\n",
    "* Very few datasets exist that contain information on HH expenditure and income, together with assets and liabilities over a long period of time.\n",
    "  * They use UK's ***Living Costs and Food Survey***.\n",
    "  * US's ***Consumer Expenditure Survey***.\n",
    "* Main contribution is to provide a new set of empirical findings about the heterogeneous effects of monetary policy and use these results to assess different theoretical channels of monetary transmission.\n",
    "\n",
    "#### Empirical framework\n",
    "* Use UK's LCFS and US's CEX surveys.\n",
    "* Construct pseudo-cohorts based on housing tenure: renters, homeowners without mortgage, homeowners with mortgage.\n",
    "* Use Romer and Romer (2004) MP shocks for the US and similar ones for the UK.\n",
    "* Since they have data on both the US and the UK, they can also study whether fixed rate mortgages (FRM), prevalent in the US, and adjustable rate mortgages (ARM), prevalent in the UK, lead to large variations in households' responsiveness to MP shocks.\n",
    "* Estimate the following equation\n",
    "$$X_{i,t} = \\alpha_0^i + \\alpha_1^itrend + B^i(L)X_{i,t-1} + C^i(L)S_{t-1} + \\sum_{q=2}^{4}D_q^i Z_q + u_{i,t}$$\n",
    "* $X_{i,t}$: real non-durable consumption, durable expenditure, or income recorded by HHs interviewed at time $t$.\n",
    "* $S$: Monetary policy shock\n",
    "* $Z$: Quarterly dummies\n",
    "* $\\alpha$: Intercepts and coefficients on a time trend polynomial\n",
    "* $i \\in \\text{Mortgagors, Outright Owners, Renters}$\n",
    "\n",
    "#### Results\n",
    "* Vast majority of the aggregate consumption response to a temporary unanticipated interest rate changes is driven by HHs with a mortgage.\n",
    "  * When interest rates decrease, HHs with mortgage increase their spending and HHs without mortgage do not change their spending.\n",
    "* The mechanism:\n",
    "  * Expansionary MP $\\implies$ increase in income for all groups.\n",
    "  * Higher income only translates to higher consumption for mortgagors and renters.\n",
    "  * This is because of the heterogeneity in the balance sheets of the 3 cohorts.\n",
    "    * Renters have little wealth and, being young and poorer, are liquidity constrained.\n",
    "    * Mortgagors tend to have little liquidity, despite owning sizable illiquid assets (wealth hand-to-mouth).\n",
    "    * Outright homeowners have ample amount of liquid and illiquid assets.\n",
    "* They find that FRMs vs ARMs do not play a major role in driving the HHs responsiveness.\n",
    "\n",
    "#### Data/Computational Limitation\n",
    "* CEX data is very poor quality. Its shortcomings are well-documented.\n",
    "  * Bad data on income.\n",
    "  * Bad data on assets/liabilities.\n",
    "\n",
    "----------\n",
    "\n",
    "## Loan Originations and Defaults in the Mortgage Crisis: The Role of the Middle Class\n",
    "### <cite data-cite=\"6202365/TF9DT4MV\"></cite>\n",
    "\n",
    "* Provide new analysis of both\n",
    "  * the debt originations dynamics leading up to the financial crisis;\n",
    "  * the patterns of default during the crisis.\n",
    "* Their results run counter to the subprime narrative.\n",
    "* Show that mortgage originations increased for borrowers across all income levels and FICO scores, not just the subprime and poor borrowers.\n",
    "  * The relation between mortgage growth and income growth at the individual level remained positive throughout the pre-2007 period.\n",
    "* All income groups increased their delinquencies in the crisis.\n",
    "  * The share of mortgage dollars in delinquency stemming from the lowest income group ***decreased*** during the financial crisis.\n",
    "* Results consistent with a demand-side view, where homebuyers and lenders bought into increasing house values and borrowers defaulted after prices dropped.\n",
    "\n",
    "#### Key Findings\n",
    "* Mian and Sufi (2009)'s results are based on ZIP code level data. They find that credit growth and income growth decoupled prior to the crisis.\n",
    "  * Growth in the ZIP code level mortgage originations combines increases at the intensive margin with the extensive margin.\n",
    "* This paper uses HH level data to show that the negative relationship at the ZIP code level is only due to the extensive margin.\n",
    "  * The negative correlation is concentrated in high-income ZIP codes that saw fast per capita income growth and moderate growth in the number of mortgages during this period.\n",
    "* Show that the expansion of credit across the income distribution is consistent for all mortgage products.\n",
    "* Show that areas with high house price growth saw a significant increase in flipped properties $\\implies$ a larger fraction of HHs held recently originated mortgages and thus were near or at their maximum leverage level.\n",
    "\n",
    "#### Interpretation\n",
    "* Their results point to an explanation in which house price increases and drops played a central role during the credit expansion and in subsequent defaults.\n",
    "* Their results point to a need for ***macroprudential regulation*** to prevent the systemic buildup of debt across households and to ensure that the financial system has a sufficient slack to guard against systemic shocks that are not tied to individual borrower characteristics.\n",
    "\n",
    "#### Relevant papers\n",
    "* A number of papers have shown that credit rose significantly more in areas with high rates of house price appreciation, particularly through second liens and cash-out refinancing (consistent with Hurst and Stafford 2004; Lehnert 2004; Campbell and Cocco 2007; Bostic, Gabriel, and Painter 2009; Mian and Sufi 2011; Brown, Stein, and Zafar 2015).\n",
    "* Role of house prices in driving defaults is shown in Foote, Gerardi, and Willen 2008; Haughwout, Peach, and Tracy 2008; Mayer, Pence, and Sherlund 2009; Palmer 2014; Ferreira and Gyourko 2015.\n",
    "* It is beyond the scope of the paper to analyze the drivers of house price dynamics. The cumulative effect of low interest rates over the decade leading up to the housing boom may have increased house prices through lowering user costs and increased demand for credit (Rajan 2010; Himmelberg, Mayer, and Sinai 2005; Bernanke 2007).\n",
    "* ***Extrapolative expectations may have played a role in driving up house prices.*** Among many others, Foote, Gerardi, and Willen (2012), Cheng, Raina, and Xiong (2014), Shiller (2014), and Glasser and Nathanson (2015) argue that buyers as well as investors in the mortgage market held highly optimistic beliefs about house price growth.\n",
    "* Several papers focus on the expansion of credit to risky or marginal borrowers (Nadauld and Sherlund 2009; Loutskina and Strahan 2009; Keys et al. 2010; Demyanyk and Van Hemert 2011; Dell'Ariccia, Igan, and Laeven 2012; Agarwal et al. 2014; Landvoigt, Piazzesi, and Schneider 2015).\n",
    "\n",
    "#### Data\n",
    "* Home Mortgage Disclosure Act (HMDA)\n",
    "* Income data from the IRS a tthe ZIP code level\n",
    "* $5\\%$ random sample of all loans in the Lender Processing Services data (LPS, formerly known as McDash)\n",
    "\n",
    "----------\n",
    "\n",
    "## Credit Supply and House Prices: Evidence from Mortgage Market Segmentation\n",
    "### <cite data-cite=\"6202365/LZWPDMW2\"></cite>\n",
    "\n",
    "* Show that easier access to credit significantly increases house prices by using exogenous changes in the conforming loan limit as an instrument for lower cost of financing.\n",
    "\n",
    "#### Overview \n",
    "\n",
    "* Key difficulty in measuring the effect of credit on the price of housing is establishing the direction of causality between credit conditions and house price growth.\n",
    "* In this paper, they use annual changes in the conforming loan limit (CLL) as an instrument for exogenous variation in the cost of credit, and in the availability of credit itself.\n",
    "  * CLL determines the maximum size of a mortgage that can be purchased or securitized by Fannie Mae or Freddie Mac.\n",
    "  * Mortgages below the conforming loan limit are both cheaper and easier to obtain than above this limit.\n",
    "* Run difference-in-difference regressions.\n",
    "* Show that exogenous changes in the availability of credit due to changes in the CLL have a significant effect on the pricing of houses that can be financed more easily using a conforming loan.\n",
    "  * A home that becomes eligible for easier access to credit due to an increase in the CLL has on average a $0.45\\%$ higher price.\n",
    "* These results are stronger pre-2005, because access to other forms of financing was more difficult during that time.\n",
    "* The results are stronger in ZIP codes with the lowest income growth.\n",
    "* Results do not support the view that credit market conditions purely respond to household demand, but point instead to a directional effect that easier credit supply leads to an increase in house prices.\n",
    "  * The ***supply*** of housing does not react strongly to the CLL.\n",
    "\n",
    "#### Relevant papers\n",
    "* Role of credit on the level of asset prices and the creation of bubbles (Kiyotaki and Moore, 1997; Allen and Gale, 1998; Bernanke and Gertler, 2001; Kindleberger, Aliber, Solow, 2005; Mian and Sufi, 2009; Brunnermeier, Eisenbach and Sannikov, 2012).\n",
    "* For the US housing market many have proposed that easy access to credit, and reduced cost of credit, fueled the increases in housing prices as well as the subsequent reversal in house price growth when credit dried up (Favilukis, Ludvigson, and Van Nieuwerburgh, 2010; Hubbard and Mayer, 2008; Khandani, Lo, and Merton, 2009; Pavlov and Wachter, 2010; Mayer, 2011).\n",
    "* Propoenents on the other side of the debate argue that cheap credit alone cannot explain the house price boom and bust (Glaeser, Gottlieb, and Gyourko, 2010).\n",
    "\n",
    "#### Data\n",
    "* Ownership transfers of residential properties available in deeds and assessors records for the cities that are covered by Dataquick.\n",
    "\n",
    "----------\n",
    "\n",
    "## Finance and Business Cycles: The Credit-Driven Household Demand Channel\n",
    "### <cite data-cite=\"6202365/3ANTIM9P\"></cite>\n",
    "\n",
    "* Study the ***credit-driven household demand channel:*** Expansions in credit supply, operating primarily through household demand, have been an important driver of business cycles.\n",
    "* This channel helps explain the recent global recession and describes economic cycles in many countries over the past 40 years.\n",
    "* This channel rests on 3 pillars:\n",
    "  1. Expansion in credit supply, as opposed to technology shocks or permanent income shocks, is a key force generating expansion and contraction in economic activity.\n",
    "  2. The expansionary phase of the credit cycle affects the real economy primarily by boosting household demand as opposed to boosting productive capacity of firms in the economy.\n",
    "  3. The contraction in the aftermath of a large increase in household debt is driven initially by a decline in aggregate demand which is amplified by nominal rigidities, constraints on monetary policy, and banking sector disruptions.\n",
    "* The contractionary phase of the business cycle is a consequence of the excesses generated during the expansionary phase.\n",
    "* Discuss how the presence of behavioral biases and aggregate demand externalities may be able to generate endogenous boom-bust credit cycles.\n",
    "* ***What triggers the expansion in credit supply that initiates the credit cycle and its business cycle implication?*** -- \"**Ans: financial excess**\"\n",
    "  * They conclude that a shock that leads to a rapid influx of capital into the financial system often triggers an expansion in credit supply.\n",
    "  * Recent manifestations -- rise in inequality in the US (Kumhof et al. (2015)) and the rapid rise in savings by many emerging markets (\"global savings glut\" Bernanke (2005)).\n",
    "* Discussing the fundamental causes of credit supply expansion, they focus on some major trends:\n",
    "  * long-term secular rise in private credit-to-GDP ratios (Jorda et al (2016))\n",
    "  * accompanied by decline in real long-term interest rates\n",
    "  * rise in within-country inequality\n",
    "  * rise in across-country \"savings gluts\"\n",
    "\n",
    "#### Key Points\n",
    "\n",
    "* The interaction between house prices and credit supply expansions has led to the question of whether the increase in house prices is the initial shock and the rise in household debt is a response, as argued by Laibson and Mollerstrom (2010), Foote et al. (2012), and Adelino et al. (2017).\n",
    "* According to Mian and Sufi, the weight of the empirical evidence sugggests that house prices are a ***response*** to credit supply expansion rather than a ***cause***.\n",
    "  * Country-level data sets also support the view that credit supply initiates the rise in house prices.\n",
    "* The rise in house prices is an amplification mechanism because HHs often borrow aggressively against the rising value of their home.\n",
    "\n",
    "#### Question\n",
    "\n",
    "* **Is the expansion of credit supply working through boosting firm investment/employment, or is it working by boosting aggregate demand by enabling HHs to increase consumption?**\n",
    "  * They claim that in recent history, the ***household demand channel appears dominant.***\n",
    "  * Over the past 40 years, the boom-bust cycle generated by a rise in debt is unique to HH debt.\n",
    "  * Increases in firm debt or government debt do not produce the same pattern.\n",
    "\n",
    "##### Details\n",
    "\n",
    "* Heterogeneous beliefs and behavioral biases needed to explain why an expansion in credit supply leads to a boom-bust cycle.\n",
    "  * An explanation based on rational expectations and externalities has a major problem: it predicts that individuals during a credit boom anticipate a slowdown in the economy. *This prediction is counterfactual.*\n",
    "\n",
    "#### Relevant papers\n",
    "* Exogenous changes in credit supply have large effects on house prices --- Adelino et al. (2014), Favara and Imbs (2015), Di Maggio and Kermani (2017), Mian et al. (2017a).\n",
    "* Quantitative macroeconomic models that show how changes in credit affect house prices --- Favilukis et al. (2017), Justiniano et al. (2015), Landvoigt (2016).\n",
    "* One reason for over-borrowing is the presence of aggregate demand externalities --- Eggertsson and Krugman (2012), Farhi and Werning (2015), Huo and Rios-Rull (2016), Korinek and Simsek (2016), Schmitt-Grohe and Uribe (2016), Guerrieri and Lorenzoni (2017).\n",
    "* Another reason for over-borrowing is the presence of pecuniary externalities due to \"fire sales\" --- Shleifer and Vishny (1992), Kiyotaki and Moore (1997), Caballero and Krishnamurthy (2001), Lorenzoni (2008), Bianchi (2011), Davila (2015).\n",
    "\n",
    "\n",
    "## Household Debt and Business Cycles Worldwide\n",
    "### <cite data-cite=\"6202365/UXGFFYVL\"></cite>\n",
    "\n",
    "* An increase in HH debt-to-GDP ratio predicts a subsequent reversal in debt and lower subsequent GDP growth.\n",
    "* Show that HH debt booms are associated with low interest rate spread environments and periods in which credit is flowing toward riskier borrowers.\n",
    "* The negative effect of an increase in HH debt on subsequent growth is stronger in situations in which MP is constrained.\n",
    "* Evidence is most consistent with a model in which an outward shift in credit supply is the fundamental shock that explains the rise in HH debt.\n",
    "  * It is likely that the incorrect expectations formation by lenders and investors (credit market sentiment) is an important factor in explaining the outward shift in credit supply.\n",
    "* What is the fundamental source of the increase in credit supply?\n",
    "  * Models of credit market sentiments suggest that lenders begin to ignore downside risks during debt booms, which makes the willing to make credit more available on cheaper terms (Gennaioli, Shleifer, and Vishny 2012; Greenwood, Hanson, and Jin 2016; Landvoigt 2016).\n",
    "* Highlight the importance of a debt-driven \"consumption\" channel for business cycle dynamics.\n",
    "\n",
    "#### Avenues of research\n",
    "* Why is the medium-run impact of HH debt growth on output larger than that of firm debt growth?\n",
    "  * ***There is little theoretical or empirical research to help answer this question.***\n",
    "  * One reason could be the strong link between HH debt and house prices. Mortgage credit expansion can cause a boom and bust in house prices, and mortgage borrowing exposes HHs to potentially large changes in net worth when house prices fall.\n",
    "  * Behavioral biases of HHs generate a large elasticity of HH borrowing with respect to credit supply shocks $\\implies$ credit supply shocks work through the HHs as opposed to firm sector.\n",
    "    * Behavioral biases such as time inconsistency (Laibson 1997)\n",
    "    * overoptimism about the ability to repay, or overconfidence about the riskiness of future income (Brunnermeier and Parker 2005).\n",
    "\n",
    "----------\n"
   ]
  }
 ],
 "metadata": {
  "cite2c": {
   "citations": {
    "6202365/3ANTIM9P": {
     "author": [
      {
       "family": "Mian",
       "given": "Atif"
      },
      {
       "family": "Sufi",
       "given": "Amir"
      }
     ],
     "container-title": "Journal of Economic Perspectives",
     "id": "6202365/3ANTIM9P",
     "issue": "3",
     "issued": {
      "year": 2018
     },
     "note": "Citation Key: MianSufi2018",
     "page": "1-30",
     "page-first": "1",
     "title": "Finance and Business Cycles: The Credit-Driven Household Demand Channel",
     "type": "article-journal",
     "volume": "32"
    },
    "6202365/5VEFIEGG": {
     "author": [
      {
       "family": "Cloyne",
       "given": "James"
      },
      {
       "family": "Ferreira",
       "given": "Clodomiro"
      },
      {
       "family": "Surico",
       "given": "Paolo"
      },
      {
       "family": "others",
       "given": ""
      }
     ],
     "id": "undefined",
     "issued": {
      "year": 2018
     },
     "note": "Citation Key: cloyne2018monetary",
     "title": "Monetary policy when households have debt: new evidence on the transmission mechanism",
     "type": "report"
    },
    "6202365/LZWPDMW2": {
     "URL": "http://www.nber.org/papers/w17832",
     "author": [
      {
       "family": "Adelino",
       "given": "Manuel"
      },
      {
       "family": "Schoar",
       "given": "Antoinette"
      },
      {
       "family": "Severino",
       "given": "Felipe"
      }
     ],
     "genre": "Working Paper",
     "id": "6202365/LZWPDMW2",
     "issued": {
      "month": 2,
      "year": 2012
     },
     "note": "Citation Key: AdelinoEtAl2012 \nbibtex*[series=Working Paper Series]",
     "number": "17832",
     "publisher": "National Bureau of Economic Research",
     "title": "Credit Supply and House Prices: Evidence from Mortgage Market Segmentation",
     "type": "report"
    },
    "6202365/TF9DT4MV": {
     "DOI": "https://doi.org/10.1093/rfs/hhw018",
     "author": [
      {
       "family": "Adelino",
       "given": "Manuel"
      },
      {
       "family": "Schoar",
       "given": "Antoinette"
      },
      {
       "family": "Severino",
       "given": "Felipe"
      }
     ],
     "container-title": "The Review of Financial Studies",
     "id": "6202365/TF9DT4MV",
     "issue": "7",
     "issued": {
      "year": 2016
     },
     "note": "Citation Key: AdelinoEtAl2016",
     "page": "1635-1670",
     "page-first": "1635",
     "title": "Loan Originations and Defaults in the Mortgage Crisis: The Role of the Middle Class",
     "type": "article-journal",
     "volume": "29"
    },
    "6202365/UXGFFYVL": {
     "DOI": "https://doi.org/10.1093/qje/qjx017",
     "author": [
      {
       "family": "Mian",
       "given": "Atif"
      },
      {
       "family": "Sufi",
       "given": "Amir"
      },
      {
       "family": "Verner",
       "given": "Emil"
      }
     ],
     "container-title": "The Quarterly Journal of Economics",
     "id": "6202365/UXGFFYVL",
     "issue": "4",
     "issued": {
      "year": 2017
     },
     "note": "Citation Key: MianSufi2017",
     "page": "1755-1817",
     "page-first": "1755",
     "title": "Household Debt and Business Cycles World Wide",
     "type": "article-journal",
     "volume": "132"
    },
    "undefined": {
     "author": [
      {
       "family": "Cloyne",
       "given": "James"
      },
      {
       "family": "Ferreira",
       "given": "Clodomiro"
      },
      {
       "family": "Surico",
       "given": "Paolo"
      },
      {
       "family": "others",
       "given": ""
      }
     ],
     "id": "undefined",
     "issued": {
      "year": 2018
     },
     "note": "Citation Key: cloyne2018monetary",
     "title": "Monetary policy when households have debt: new evidence on the transmission mechanism",
     "type": "report"
    }
   }
  },
  "kernelspec": {
   "display_name": "Python 3",
   "language": "python",
   "name": "python3"
  },
  "language_info": {
   "codemirror_mode": {
    "name": "ipython",
    "version": 3
   },
   "file_extension": ".py",
   "mimetype": "text/x-python",
   "name": "python",
   "nbconvert_exporter": "python",
   "pygments_lexer": "ipython3",
   "version": "3.6.7"
  },
  "varInspector": {
   "cols": {
    "lenName": 16,
    "lenType": 16,
    "lenVar": 40
   },
   "kernels_config": {
    "python": {
     "delete_cmd_postfix": "",
     "delete_cmd_prefix": "del ",
     "library": "var_list.py",
     "varRefreshCmd": "print(var_dic_list())"
    },
    "r": {
     "delete_cmd_postfix": ") ",
     "delete_cmd_prefix": "rm(",
     "library": "var_list.r",
     "varRefreshCmd": "cat(var_dic_list()) "
    }
   },
   "types_to_exclude": [
    "module",
    "function",
    "builtin_function_or_method",
    "instance",
    "_Feature"
   ],
   "window_display": false
  }
 },
 "nbformat": 4,
 "nbformat_minor": 2
}
