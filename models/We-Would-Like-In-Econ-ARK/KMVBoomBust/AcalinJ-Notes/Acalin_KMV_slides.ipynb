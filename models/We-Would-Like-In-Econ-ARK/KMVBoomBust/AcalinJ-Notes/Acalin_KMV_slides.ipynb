{
 "cells": [
  {
   "cell_type": "code",
   "execution_count": 1,
   "metadata": {
    "slideshow": {
     "slide_type": "skip"
    }
   },
   "outputs": [
    {
     "data": {
      "text/html": [
       "<script>\n",
       "code_show=true; \n",
       "function code_toggle() {\n",
       " if (code_show){\n",
       " $('div.input').hide();\n",
       " } else {\n",
       " $('div.input').show();\n",
       " }\n",
       " code_show = !code_show\n",
       "} \n",
       "$( document ).ready(code_toggle);\n",
       "</script>\n",
       "<form action=\"javascript:code_toggle()\"><input type=\"submit\" value=\"Click here to toggle on/off the raw code.\"></form>"
      ],
      "text/plain": [
       "<IPython.core.display.HTML object>"
      ]
     },
     "execution_count": 1,
     "metadata": {},
     "output_type": "execute_result"
    }
   ],
   "source": [
    "from IPython.display import Image\n",
    "\n",
    "from IPython.display import HTML\n",
    "\n",
    "HTML('''<script>\n",
    "code_show=true; \n",
    "function code_toggle() {\n",
    " if (code_show){\n",
    " $('div.input').hide();\n",
    " } else {\n",
    " $('div.input').show();\n",
    " }\n",
    " code_show = !code_show\n",
    "} \n",
    "$( document ).ready(code_toggle);\n",
    "</script>\n",
    "<form action=\"javascript:code_toggle()\"><input type=\"submit\" value=\"Click here to toggle on/off the raw code.\"></form>''')"
   ]
  },
  {
   "cell_type": "markdown",
   "metadata": {
    "slideshow": {
     "slide_type": "slide"
    }
   },
   "source": [
    "<font size=\"10\"><b><center>The Housing Boom and Bust:</center></b></font>\n",
    "<font size=\"10\"><b><center>Model meets Evidence</center></b></font><br>\n",
    "<font size=\"6\"><b><center>Kaplan, Mitman, and Violante (2019)</center></b></font>\n",
    "\n",
    "<br><br>\n",
    "<font size=\"6\"><b><center>Acalin Julien</center></font>\n",
    "\n",
    "<font size=\"4\"><b><center>Johns Hopkins University, Baltimore, March 2019</center></b></font><br>"
   ]
  },
  {
   "cell_type": "markdown",
   "metadata": {
    "slideshow": {
     "slide_type": "slide"
    }
   },
   "source": [
    "## The Question\n",
    "\n",
    "<center><img src=\"Charts/chart1a.png\" style=\"height:300px\"></center>"
   ]
  },
  {
   "cell_type": "markdown",
   "metadata": {
    "slideshow": {
     "slide_type": "fragment"
    }
   },
   "source": [
    " ### What caused the boom and bust in house prices?"
   ]
  },
  {
   "cell_type": "markdown",
   "metadata": {
    "slideshow": {
     "slide_type": "slide"
    }
   },
   "source": [
    "## Two Views   \n",
    " \n",
    "<b>1. Credit view:</b>    \n",
    "    a. Availability of credit to marginal borrowers determines demand for housing and house prices   \n",
    "    b. Financial deregulation and rise in securitization in early 2000s led to ‘unsustainable’ lending to subprime low-income borrower   \n",
    "    \n",
    "       \n",
    "<b>2. Expectations view:</b>     \n",
    "    a. Waves of optimism and pessimism affect desire to borrow, housing demand and house prices    \n",
    "    b. Middle- and high-income prime borrowers crucial to the story    "
   ]
  },
  {
   "cell_type": "markdown",
   "metadata": {
    "slideshow": {
     "slide_type": "fragment"
    }
   },
   "source": [
    "* What do the microdata say?"
   ]
  },
  {
   "cell_type": "markdown",
   "metadata": {
    "slideshow": {
     "slide_type": "slide"
    }
   },
   "source": [
    "## Equilibrium Models of the Credit View\n",
    "\n",
    "- Successful in generating large house price movements "
   ]
  },
  {
   "cell_type": "markdown",
   "metadata": {
    "slideshow": {
     "slide_type": "fragment"
    }
   },
   "source": [
    "- What does it take for credit to push up house prices?   \n",
    "    a. Large effect of credit shocks on housing risk premium   \n",
    "    b. Many households constrained in their housing consumption "
   ]
  },
  {
   "cell_type": "markdown",
   "metadata": {
    "slideshow": {
     "slide_type": "fragment"
    }
   },
   "source": [
    "- Model features that deliver these outcomes:   \n",
    "    a. Short term debt and no default: housing is very risky   \n",
    "    b. No rental market: many households that want to consume more housing but cannot"
   ]
  },
  {
   "cell_type": "markdown",
   "metadata": {
    "slideshow": {
     "slide_type": "slide"
    }
   },
   "source": [
    "## This paper\n",
    "\n",
    "   \n",
    "- Equilibrium model with **rental market and long-term mortgages**    \n",
    "   \n",
    "- Aggregate shocks: income, credit, **beliefs**     \n",
    "   \n",
    "- Parameterize to cross-sectional and life-cycle facts  \n",
    "   \n",
    "- Compare to aggregate time-series on: house prices, rent-price ratio, home ownership, leverage, and foreclosures    \n",
    "   \n",
    "- Decompose the role of each shock   \n",
    "   \n",
    "- Compare with new micro evidence   \n",
    "   \n",
    "- Study transmission of house prices to consumption   \n",
    "   \n",
    "- Evaluate debt forgiveness policies"
   ]
  },
  {
   "cell_type": "markdown",
   "metadata": {
    "slideshow": {
     "slide_type": "slide"
    }
   },
   "source": [
    "## Model: Household and Financial Sectors\n",
    "\n",
    "- OLG with two phases in lifecycle: work and retirement (80 periods)   \n",
    "   \n",
    "- CES utility over ND consumption $(1-\\phi)$ and housing $\\phi$   \n",
    "   \n",
    "- Idiosyncratic uninsurable earnings shocks $y$   \n",
    "   \n",
    "- Saving in risk-free bonds, exogenous fixed interest rate   \n",
    "   \n",
    "- Housing can be bought at $p_h$ (sold s.t. transaction cost) or **rented** at $\\mathbf{ρ}$   \n",
    "   \n",
    "- **Long-term mortgages** (to be repaid before death), with cash-out refi option, **defaultable**, competitively priced by financial intermediaries (thus reflects probability of default)   \n",
    "   \n",
    "- At origination: max LTV and max PTI constraints ($λ^m$, $λ^π$) and origination costs ($κ^m$, $ζ^m$)   \n",
    "   \n",
    "- Bank owns the house if default but can only sell at a discount (foreclosure is costly)   \n",
    "   \n",
    "- HELOCs: one-period non defaultable debt ($λ^b$)"
   ]
  },
  {
   "cell_type": "markdown",
   "metadata": {
    "slideshow": {
     "slide_type": "slide"
    }
   },
   "source": [
    "## Model: Production\n",
    "\n",
    "### Final good sector   \n",
    "- Linear technology in labor with productivity $Z$ $\\rightarrow$ $w = Z$ \n",
    "\n",
    "### Construction sector   \n",
    "- Housing permits + labor $\\rightarrow$ aggregate housing investments $I(p_h)$  \n",
    "\n",
    "### Rental sector   \n",
    "- Frictionless conversion of rental units into owned units and viceversa\n",
    "- Zero-profit condition yields **equilibrium rental rate $\\mathbf{ρ}$**"
   ]
  },
  {
   "cell_type": "markdown",
   "metadata": {
    "slideshow": {
     "slide_type": "slide"
    }
   },
   "source": [
    "## Model: Government          \n",
    "            \n",
    "### Government   \n",
    "- Taxes workers (with mortgage interest deduction) and properties, sells land permits, and pays SS benefits to retirees"
   ]
  },
  {
   "cell_type": "markdown",
   "metadata": {
    "slideshow": {
     "slide_type": "slide"
    }
   },
   "source": [
    "## Aggregate Shocks\n",
    "\n",
    "- **Aggregate labor income:** $Z$\n",
    "- **Credit conditions:**   \n",
    "    * mortgage origination cost ($κ^m$, $ζ^m$) reflecting securitization  \n",
    "    * LTV and PTI limits ($λ^m$, $λ^π$)   "
   ]
  },
  {
   "cell_type": "markdown",
   "metadata": {
    "slideshow": {
     "slide_type": "fragment"
    }
   },
   "source": [
    "\n",
    "- **Beliefs / News** about future housing demand   \n",
    "Three regimes for $φ$ (share of housing services in $u$):   \n",
    "\n",
    "    a/ $φ_L$: low housing share and unlikely transition to $φ_H$   \n",
    "    b/ $φ^∗_L$: low housing share and likely transition to $φ_H$   \n",
    "    c/ $φ_H$: high housing share"
   ]
  },
  {
   "cell_type": "markdown",
   "metadata": {
    "slideshow": {
     "slide_type": "fragment"
    }
   },
   "source": [
    "**Boom-Bust:** shift from (a) to (b), and back to (a)"
   ]
  },
  {
   "cell_type": "markdown",
   "metadata": {
    "slideshow": {
     "slide_type": "slide"
    }
   },
   "source": [
    "## Parameterization: Lifecycle Profiles of Ownership and Leverage\n",
    "\n",
    "<br><center><img src=\"Charts/chart2.png\" style=\"height:300px\"></center>\n",
    "\n",
    "The model replicates:\n",
    "- Steep rise in **home ownership** from age 25 to 50\n",
    "- Home ownership remains **flat during retirement**\n",
    "- Sharp **decline in leverage** over the life cycle"
   ]
  },
  {
   "cell_type": "markdown",
   "metadata": {
    "slideshow": {
     "slide_type": "fragment"
    }
   },
   "source": [
    "- **Calibration of news shock**: use data on expectations (OECD)"
   ]
  },
  {
   "cell_type": "markdown",
   "metadata": {
    "slideshow": {
     "slide_type": "slide"
    }
   },
   "source": [
    "## Parameterization\n",
    "\n",
    "<br><center><img src=\"Charts/param.png\" style=\"height:300px\"></center>\n"
   ]
  },
  {
   "cell_type": "markdown",
   "metadata": {
    "slideshow": {
     "slide_type": "slide"
    }
   },
   "source": [
    "## Shocks and Household Expectations in the Model\n",
    "\n",
    "<br><center><img src=\"Charts/shocks.png\" style=\"height:300px\"></center>\n",
    "\n",
    "- For boom years, consistent with survey evidence in Case-Shiller-Thompson which shows US households expected house price to grow **5-10 pct per year**"
   ]
  },
  {
   "cell_type": "markdown",
   "metadata": {
    "slideshow": {
     "slide_type": "slide"
    }
   },
   "source": [
    "## House Prices\n",
    "\n",
    "<br><center><img src=\"Charts/chart4.png\" style=\"height:300px\"></center>\n",
    "\n",
    "   \n",
    "- Decomposition is unique as shocks are orthogonal   \n",
    "- Belief shock accounts for all boom-bust in house prices\n",
    "- Households unconstrained with respect to housing consumption, thus loosening credit does not do anything to the price"
   ]
  },
  {
   "cell_type": "markdown",
   "metadata": {
    "slideshow": {
     "slide_type": "slide"
    }
   },
   "source": [
    "## Rent-Price Ratio\n",
    "\n",
    "<center><img src=\"Charts/chart5.png\" style=\"height:300px\"></center>\n",
    "\n",
    "- Mirror image of house price\n",
    "- Model can explain about 2/3 of change in data\n",
    "- Belief about **future appreciation** shared by investment company"
   ]
  },
  {
   "cell_type": "markdown",
   "metadata": {
    "slideshow": {
     "slide_type": "slide"
    }
   },
   "source": [
    "## Home Ownership Rate\n",
    "\n",
    "<br><center><img src=\"Charts/chart6.png\" style=\"height:300px\"></center>\n",
    "\n",
    "\n",
    "- Belief shock makes renting more appealing, so should decrease home ownership\n",
    "- Cheap credit drives rise in home ownership   \n",
    "- Households constrained in **tenure choice**, not housing choice"
   ]
  },
  {
   "cell_type": "markdown",
   "metadata": {
    "slideshow": {
     "slide_type": "slide"
    }
   },
   "source": [
    "## Change in Home Ownership: Data and Model\n",
    "\n",
    "<br><center><img src=\"Charts/young.png\" style=\"height:300px\"></center>\n",
    "\n",
    "\n",
    "- It is the young who go in/out of the housing market"
   ]
  },
  {
   "cell_type": "markdown",
   "metadata": {
    "slideshow": {
     "slide_type": "slide"
    }
   },
   "source": [
    "## Explaining the Effects of Credit Shocks\n",
    "\n",
    "- Why looser/tighter credit does not affect housing demand?\n",
    "    * **Defaultable long-term debt:** housing risk premium is small\n",
    "    * **Rental market:** buyers are not constrained in housing choice"
   ]
  },
  {
   "cell_type": "markdown",
   "metadata": {
    "slideshow": {
     "slide_type": "fragment"
    }
   },
   "source": [
    "- Why is rise in home ownership disconnected from house prices?\n",
    "    * Renters buy houses of **similar size of those they rented**\n",
    "    * It’s the current home owners who upsize and push up demand"
   ]
  },
  {
   "cell_type": "markdown",
   "metadata": {
    "slideshow": {
     "slide_type": "fragment"
    }
   },
   "source": [
    "- If HH’s already consume optimal amount of housing, why buy more?\n",
    "    * Housing is both a consumption good and **an asset**\n",
    "    * Many households buy larger houses to realize expected capital gain"
   ]
  },
  {
   "cell_type": "markdown",
   "metadata": {
    "slideshow": {
     "slide_type": "slide"
    }
   },
   "source": [
    "## Leverage (debt/house value)\n",
    "\n",
    "<br><center><img src=\"Charts/chart7.png\" style=\"height:300px\"></center>\n",
    "\n",
    "- Mechanically went up in the bust as house prices fall\n",
    "- Credit loosening is crucial to maintain **constant leverage** pre-boom\n",
    "- Credit shocks important for leverage and home ownership but not house prices      "
   ]
  },
  {
   "cell_type": "markdown",
   "metadata": {
    "slideshow": {
     "slide_type": "slide"
    }
   },
   "source": [
    "## Endogenous Credit Boom through Beliefs\n",
    "\n",
    "<br><center><img src=\"Charts/chart8.png\" style=\"height:300px\"></center>\n",
    "\n",
    "\n",
    "- Mortgage rate as function of loan to value ratio reflects probability of default thus convex. Exogenous limit is set at 90%.\n",
    "- During boom: Lender’s optimistic beliefs $\\rightarrow$ lower expected default rates $\\rightarrow$ lower mortgage rates, especially for **subprime borrowers**, and limit disappears"
   ]
  },
  {
   "cell_type": "markdown",
   "metadata": {
    "slideshow": {
     "slide_type": "slide"
    }
   },
   "source": [
    "## Foreclosure Rate\n",
    "\n",
    "<br><center><img src=\"Charts/chart9.png\" style=\"height:300px\"></center>\n",
    "\n",
    "\n",
    "- **Complementarity** between optimistic belief and looser credit"
   ]
  },
  {
   "cell_type": "markdown",
   "metadata": {
    "slideshow": {
     "slide_type": "slide"
    }
   },
   "source": [
    "## Micro Evidence: Distribution of Debt and Foreclosures\n",
    "\n",
    "- Credit growth during boom uniform accross income levels\n",
    "<center><img src=\"Charts/debt.png\" style=\"height:200px\"></center>\n",
    "\n",
    "- Foreclosure rise during bust disproportionately large for prime borrowers\n",
    "<center><img src=\"Charts/foreclosure.png\" style=\"height:200px\"></center>\n"
   ]
  },
  {
   "cell_type": "markdown",
   "metadata": {
    "slideshow": {
     "slide_type": "slide"
    }
   },
   "source": [
    "## How does the fall in housing price transmit to consumption?\n",
    "\n",
    "<br>\n",
    "<center><img src=\"Charts/chart12.png\" style=\"height:300px\"></center>\n",
    "\n",
    "- Credit plays no role, belief and income shocks do\n",
    "- House prices **explain 1/2** of boom and bust in $C$\n",
    "- Change in consumption growth negatively correlated with housing share of total wealth (**balance sheet effect** a la Mian and Sufi)\n",
    "- No relation between change in consumption and debt as a fraction of wealth: no deleveraging effect"
   ]
  },
  {
   "cell_type": "markdown",
   "metadata": {
    "slideshow": {
     "slide_type": "slide"
    }
   },
   "source": [
    "## Summary: What Did We Learn from the Model?\n",
    "\n",
    "<br>\n",
    "\n",
    "- Shift in **expected house appreciation** drives the boom-bust in $p_h$   \n",
    "   \n",
    "- Credit not important to explain prices, but important for home ownership, leverage, and foreclosures   \n",
    "   \n",
    "- **Rental market + long-term mortgages** are the key model features   \n",
    "   \n",
    "- Micro evidence and aggregate time series are consistent   \n",
    "   \n",
    "- Changes in $p_h$ transmit to $C$ through **wealth effect**   \n",
    "   \n",
    "- Principal reduction program would not have cushioned the bust"
   ]
  },
  {
   "cell_type": "markdown",
   "metadata": {
    "slideshow": {
     "slide_type": "slide"
    }
   },
   "source": [
    "# Appendix "
   ]
  },
  {
   "cell_type": "markdown",
   "metadata": {
    "slideshow": {
     "slide_type": "slide"
    }
   },
   "source": [
    "<center><img src=\"Charts/model1.png\" style=\"height:600px\"></center> "
   ]
  },
  {
   "cell_type": "markdown",
   "metadata": {
    "slideshow": {
     "slide_type": "slide"
    }
   },
   "source": [
    "<center><img src=\"Charts/model2.png\" style=\"height:600px\"></center> "
   ]
  },
  {
   "cell_type": "markdown",
   "metadata": {
    "slideshow": {
     "slide_type": "slide"
    }
   },
   "source": [
    "<center><img src=\"Charts/model3.png\" style=\"height:600px\"></center> "
   ]
  },
  {
   "cell_type": "markdown",
   "metadata": {
    "slideshow": {
     "slide_type": "slide"
    }
   },
   "source": [
    "<center><img src=\"Charts/model4.png\" style=\"height:600px\"></center> "
   ]
  },
  {
   "cell_type": "markdown",
   "metadata": {
    "slideshow": {
     "slide_type": "slide"
    }
   },
   "source": [
    "<center><img src=\"Charts/model5.png\" style=\"height:600px\"></center> "
   ]
  },
  {
   "cell_type": "markdown",
   "metadata": {
    "slideshow": {
     "slide_type": "slide"
    }
   },
   "source": [
    "<center><img src=\"Charts/model6.png\" style=\"height:600px\"></center> "
   ]
  },
  {
   "cell_type": "markdown",
   "metadata": {
    "slideshow": {
     "slide_type": "slide"
    }
   },
   "source": [
    "<center><img src=\"Charts/model7.png\" style=\"height:600px\"></center> "
   ]
  },
  {
   "cell_type": "markdown",
   "metadata": {
    "slideshow": {
     "slide_type": "slide"
    }
   },
   "source": [
    "<center><img src=\"Charts/model8.png\" style=\"height:600px\"></center> "
   ]
  },
  {
   "cell_type": "markdown",
   "metadata": {
    "slideshow": {
     "slide_type": "slide"
    }
   },
   "source": [
    "<center><img src=\"Charts/model9.png\" style=\"height:600px\"></center> "
   ]
  },
  {
   "cell_type": "markdown",
   "metadata": {
    "slideshow": {
     "slide_type": "slide"
    }
   },
   "source": [
    "# Appendix II"
   ]
  },
  {
   "cell_type": "markdown",
   "metadata": {
    "slideshow": {
     "slide_type": "slide"
    }
   },
   "source": [
    "<center><img src=\"Charts/renter.png\" style=\"height:600px\"></center> "
   ]
  },
  {
   "cell_type": "markdown",
   "metadata": {
    "slideshow": {
     "slide_type": "slide"
    }
   },
   "source": [
    "<center><img src=\"Charts/buyer.png\" style=\"height:600px\"></center> "
   ]
  },
  {
   "cell_type": "markdown",
   "metadata": {
    "slideshow": {
     "slide_type": "slide"
    }
   },
   "source": [
    "<center><img src=\"Charts/homeowner.png\" style=\"height:600px\"></center> "
   ]
  },
  {
   "cell_type": "markdown",
   "metadata": {
    "slideshow": {
     "slide_type": "slide"
    }
   },
   "source": [
    "<center><img src=\"Charts/payment.png\" style=\"height:600px\"></center> "
   ]
  },
  {
   "cell_type": "markdown",
   "metadata": {
    "slideshow": {
     "slide_type": "slide"
    }
   },
   "source": [
    "<center><img src=\"Charts/default.png\" style=\"height:600px\"></center> "
   ]
  },
  {
   "cell_type": "markdown",
   "metadata": {
    "slideshow": {
     "slide_type": "slide"
    }
   },
   "source": [
    "<center><img src=\"Charts/mortgage.png\" style=\"height:600px\"></center> "
   ]
  }
 ],
 "metadata": {
  "celltoolbar": "Slideshow",
  "kernelspec": {
   "display_name": "Python 3",
   "language": "python",
   "name": "python3"
  },
  "language_info": {
   "codemirror_mode": {
    "name": "ipython",
    "version": 3
   },
   "file_extension": ".py",
   "mimetype": "text/x-python",
   "name": "python",
   "nbconvert_exporter": "python",
   "pygments_lexer": "ipython3",
   "version": "3.6.7"
  },
  "livereveal": {
   "theme": "simple",
   "transition": "slide"
  },
  "varInspector": {
   "cols": {
    "lenName": 16,
    "lenType": 16,
    "lenVar": 40
   },
   "kernels_config": {
    "python": {
     "delete_cmd_postfix": "",
     "delete_cmd_prefix": "del ",
     "library": "var_list.py",
     "varRefreshCmd": "print(var_dic_list())"
    },
    "r": {
     "delete_cmd_postfix": ") ",
     "delete_cmd_prefix": "rm(",
     "library": "var_list.r",
     "varRefreshCmd": "cat(var_dic_list()) "
    }
   },
   "types_to_exclude": [
    "module",
    "function",
    "builtin_function_or_method",
    "instance",
    "_Feature"
   ],
   "window_display": false
  }
 },
 "nbformat": 4,
 "nbformat_minor": 2
}
