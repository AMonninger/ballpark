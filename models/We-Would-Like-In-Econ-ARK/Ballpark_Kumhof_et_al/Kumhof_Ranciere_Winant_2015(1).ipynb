{
 "cells": [
  {
   "cell_type": "markdown",
   "metadata": {},
   "source": [
    "# Kumhof, Rancière, and Winant (2015)"
   ]
  },
  {
   "cell_type": "markdown",
   "metadata": {},
   "source": [
    "# Inequality, Leverage and Crises: The Case of Endogenous Default"
   ]
  },
  {
   "cell_type": "markdown",
   "metadata": {},
   "source": [
    "## Summary"
   ]
  },
  {
   "cell_type": "markdown",
   "metadata": {},
   "source": [
    "This paper develops a two agent model with endogenous default to  analyze how the income distribution may affect household leverage and the likelihood of financial crises. \n",
    "\n",
    "Main Findings: \n",
    "\n",
    "(i) An increase in the income share of high-income households leads to an increase in household leverage as wealthy households, due to their preferences for wealth, recycle part of their income back to the other households along the income distribution in the form of loans/bonds. \n",
    "\n",
    "(ii) A rise in household leverage leads to an increase in the probability of financial crises as the benefit of defaulting rises without affecting the costs.\n",
    "\n",
    "(iii) The deleveraging that occurs after a crises is only temporary. Over time, household leverage returns to its original pre-crises level due to an increase in the income share of high income households that resulted from the crisis."
   ]
  },
  {
   "cell_type": "markdown",
   "metadata": {},
   "source": [
    "## Non-Technical Methodological Overview"
   ]
  },
  {
   "cell_type": "markdown",
   "metadata": {},
   "source": [
    "The authors consider a two agent model with endogenous default. Output and income share follow auto-regressive stochastic processes. The agents in the model are characterized as either high earners or low earners. High earners value financial wealth and thus lend to low earners who borrow in order to increase consumption today. At the beginning of each period, low earners may choose whether to default. "
   ]
  },
  {
   "cell_type": "markdown",
   "metadata": {},
   "source": [
    "## Baseline Model"
   ]
  },
  {
   "cell_type": "markdown",
   "metadata": {},
   "source": [
    "### Output and Output Share"
   ]
  },
  {
   "cell_type": "markdown",
   "metadata": {},
   "source": [
    "The model economy consists of two types of infinitely-lived agents characterized as either top earners, with population share $\\chi,$ or bottom earners, with population share $1-\\chi .$ \n",
    "\n",
    "Total output $y_{t}$ is given by an autoregressive stochastic process\n",
    "\n",
    "$$\n",
    "y_{t}=\\left(1-\\rho_{y}\\right) \\bar{y}+\\rho_{y} y_{t-1}+\\epsilon_{y, t}\n",
    "$$\n",
    "\n",
    "where a bar above a variable denotes its steady state value.\n",
    "\n",
    "The share of output received by top earners $z_{t}$ is also an autoregressive stochastic process, and is given by\n",
    "\n",
    "$$\n",
    "z_{t}=\\left(1-\\rho_{z}\\right) \\bar{z} + \\rho_{z} z_{t-1}+\\epsilon_{z, t}\n",
    "$$\n",
    "\n",
    "The standard deviations of $\\epsilon_{y, t}$ and $\\epsilon_{z, t}$ are denoted by $\\sigma_{y}$ and $\\sigma_{z}$"
   ]
  },
  {
   "cell_type": "markdown",
   "metadata": {},
   "source": [
    "### Top Earners"
   ]
  },
  {
   "cell_type": "markdown",
   "metadata": {},
   "source": [
    "Top earners maximize the intertemporal utility function:\n",
    "\n",
    "$$\n",
    "U_{t}=E_{t} \\sum_{k \\geq 0}^{\\infty} \\beta_{\\tau}^{k}\\left\\{\\frac{\\left(c_{t+k}^{\\tau}\\right)^{1-\\frac{1}{\\sigma}}}{1-\\frac{1}{\\sigma}}+\\varphi \\frac{\\left(1+b_{t+k} \\frac{1-\\chi}{x}\\right)^{1-\\frac{1}{\\eta}}}{1-\\frac{1}{\\eta}}\\right\\}\n",
    "$$\n",
    "\n",
    "where,\n",
    "\n",
    "$c_{t}^{\\tau}$ is top earners' consumption.\n",
    "\n",
    "$b_{t} \\frac{1-x}{x}$ is top earners' per capita tradable financial wealth, which takes the form of loans to bottom earners.\n",
    "\n",
    "$\\beta_{\\tau}$ is the discount factor.\n",
    "\n",
    "$\\sigma$ is the intertemporal elasticity of substitution in consumption\n",
    "\n",
    "$\\eta$ parameterizes the curvature of the utility function with respect to wealth.\n",
    "\n",
    "$\\varphi$ is the weight of wealth in utility. \n",
    "\n",
    "subject to :\n",
    "$$\n",
    "c_{t}^{\\tau}=y_{t} z_{t} \\frac{1}{\\chi}+\\left(l_{t}-b_{t} p_{t}\\right) \\frac{1-\\chi}{\\chi}\n",
    "$$\n",
    "\n",
    "where,\n",
    "\n",
    "$b_t$ is the amount of debt per bottom earner issued at time \\textit{t} at price $p_t$ which is to be repaid in \\textit{t}+1. \n",
    "\n",
    "$l_t$ is the amount of debt per bottom earner repaid in period \\textit{t}.\n",
    "\n",
    "and\n",
    "\n",
    "$$\n",
    "l_{t}=b_{t-1}\\left(1-h \\delta_{t}\\right)\n",
    "$$\n",
    "\n",
    "where\n",
    "\n",
    "$\\delta_{t} = 1$ if the low earner defaults and $\\delta_{t} = 0$ otherwise.\n",
    "\n",
    "$h \\in [0,1]$ is the proportion of the loans defaulted on in case of a crisis.\n"
   ]
  },
  {
   "cell_type": "markdown",
   "metadata": {},
   "source": [
    "### Bottom Earners"
   ]
  },
  {
   "cell_type": "markdown",
   "metadata": {},
   "source": [
    "Bottom earners Maximize: \n",
    "\n",
    "$$\n",
    "V_{t}=E_{t} \\sum_{k \\geq 0}^{\\infty} \\beta_{b}^{k}\\left\\{\\frac{\\left(c_{t+k}^{b}\\right)^{1-\\frac{1}{\\sigma}}}{1-\\frac{1}{\\sigma}}\\right\\}\n",
    "$$\n",
    "\n",
    "subject to \n",
    "\n",
    "$$\n",
    "c_{t}^{b}=y_{t}\\left(1-z_{t}\\right)\\left(1-u_{t}\\right) \\frac{1}{1-\\chi}+\\left(b_{t} p_{t}-l_{t}\\right)\n",
    "$$\n",
    "where\n",
    "$u_t$ is the fraction of bottom earners' endowment that is absorbed by a penalty for past or current defaults.\n",
    "\n",
    "\n",
    "$u_t$ is given by \n",
    "\n",
    "$$\n",
    "u_{t}=\\rho_{u} u_{t-1}+\\gamma_{u} \\delta_{t}\n",
    "$$\n",
    "\n",
    "where $\\gamma_{u}$ is the impact effect of a default\n",
    "\n",
    "$\\rho_{u}$ is the decay rate in the absence of further defaults.\n",
    "\n"
   ]
  },
  {
   "cell_type": "markdown",
   "metadata": {},
   "source": [
    "### Rational Default"
   ]
  },
  {
   "cell_type": "markdown",
   "metadata": {},
   "source": [
    "At the beginning of every period, bottom earners may choose to default on their debt from last period. \n",
    "The decision to default can be written as: \n",
    "\n",
    "\n",
    "$$ \n",
    "  \\delta_{t}=\\mathrm{argmax}_{\\delta_{t} \\in\\{0,1\\}}\\left\\{V_{t}^{D}-\\xi_{t}, V_{t}^{N}\\right\\} \n",
    " $$\n",
    "\n",
    "\n",
    "where $V_{t}^{D}$ is the lifetime utility of defaulting during period t. More specifically, $V_{t}^{D}=V\\left(s_{t}, \\delta_{t}=1\\right)$\n",
    "\n",
    "Similarly, $V_{t}^{N}$ is the lifetime utility of not defaulting during period t and  $V_{t}^{N}=V\\left(s_{t}, \\delta_{t}=0\\right)$.\n",
    "\n",
    "$\\xi_{t}$ is the i.i.d additive utility cost of defaulting.\n",
    "\n",
    "\n",
    "Its CDF is of the following specification: \n",
    "\n",
    "\n",
    "$$\n",
    "\\Xi(x)=\\left\\{\\begin{array}{ll}\n",
    "\\frac{\\psi}{1+e(-\\theta x)} & \\text { if } x<\\tilde{x} \\\\\n",
    "1 & \\text { if } x \\geq \\tilde{x}\n",
    "\\end{array}\\right\\}\n",
    "$$\n",
    "\n",
    "\n",
    "where $\\tilde{x}$ is an arbitrarily large positive number and $\\psi < 1$.\n",
    "\n",
    "The probability of default:\n",
    "\n",
    "$$\n",
    "\\operatorname{prob}\\left(\\delta_{t}=1 \\mid s_{t}\\right)=\\Xi\\left(V_{t}^{D}-V_{t}^{N}\\right)\n",
    "$$\n",
    "\n"
   ]
  },
  {
   "cell_type": "markdown",
   "metadata": {},
   "source": [
    "### Dynamic Program"
   ]
  },
  {
   "cell_type": "markdown",
   "metadata": {},
   "source": [
    "Let the state of the economy be denoted by $s_t = (l_t, y_t, z_t, u_t) $."
   ]
  },
  {
   "cell_type": "markdown",
   "metadata": {},
   "source": [
    "#### Bottom Earners"
   ]
  },
  {
   "cell_type": "markdown",
   "metadata": {},
   "source": [
    "For the bottom earners, the Bellman equation is\n",
    "\n",
    "\n",
    "$$\n",
    "\\begin{aligned}\n",
    "V\\left(s_{t}\\right)= \\max_{ c_{t}^{b}, b_{t} , \\delta_{t}} & \\ \\frac{\\left(c_{t}^{b}\\right)^{1-\\frac{1}{\\sigma}}}{1-\\frac{1}{\\sigma}}+E_{t}\\left[V\\left(s_{t+1}\\right)\\right] \n",
    "\\\\\n",
    "\\text { s.t. } &c_{t}^{b}=y_{t}\\left(1-z_{t}\\right)\\left(1-u_{t}\\right) \\frac{1}{1-\\chi}+\\left(b_{t} p_{t}-l_{t}\\right), \\\\\n",
    "& u_{t}=\\rho_{u} u_{t-1}+\\gamma_{u} \\delta_{t}\n",
    "\\end{aligned}\n",
    "$$"
   ]
  },
  {
   "cell_type": "markdown",
   "metadata": {},
   "source": [
    "#### Top Earners"
   ]
  },
  {
   "cell_type": "markdown",
   "metadata": {},
   "source": [
    "The Bellman equation for top Earners is\n",
    "\n",
    "\n",
    "\n",
    "$$\n",
    "\\begin{aligned}\n",
    "V^{\\tau}\\left(s_{t}\\right)= \\max_{ c_{\\tau}^{T}, b_{t}} & \\ \\frac{\\left(c_{t}^{\\tau}\\right)^{1-\\frac{1}{\\sigma}}}{1-\\frac{1}{\\sigma}}+\\varphi \\frac{\\left(1+b_{t} \\frac{1-\\chi}{x}\\right)^{1-\\frac{1}{\\eta}}}{1-\\frac{1}{\\eta}} +E_{t}\\left[V^{\\tau}\\left(s_{t+1}\\right)\\right] \n",
    "\\\\\n",
    "\\text { s.t. } &c_{t}^{\\tau}=y_{t} z_{t} \\frac{1}{\\chi}+\\left(l_{t}-b_{t} p_{t}\\right) \\frac{1-\\chi}{\\chi} \\\\\n",
    "& l_{t}=b_{t-1}\\left(1-h \\delta_{t}\\right)\n",
    "\\end{aligned}\n",
    "$$"
   ]
  },
  {
   "cell_type": "markdown",
   "metadata": {},
   "source": [
    "## Results"
   ]
  },
  {
   "cell_type": "markdown",
   "metadata": {},
   "source": [
    "Under a plausible baseline calibration, the model can replicate trends in debt to income ratios from 1983-2009 with a series of near-permanent negative shocks to the income share of bottom earners of the exact magnitude observed in\n",
    "the data. "
   ]
  },
  {
   "cell_type": "markdown",
   "metadata": {},
   "source": [
    "### Impulse Response from Income Distribution Shock"
   ]
  },
  {
   "cell_type": "markdown",
   "metadata": {},
   "source": [
    "A one standard deviation shock to Top Earners output share leads to an immediate increase their income share. Top earners will lend out this increased income leading to a rise in the debt to income ratios for bottom earners. The rise in debt to income ratios increases the probability of a crisis."
   ]
  },
  {
   "cell_type": "markdown",
   "metadata": {},
   "source": [
    "### Impulse response from Crisis"
   ]
  },
  {
   "cell_type": "markdown",
   "metadata": {},
   "source": [
    "Bottom earners default on 10 percent of their debt and a loss in income due to the cost of default. The debt to income ratio then falls around 1.5 percent.  There is a 3 percent loss in GDP and a 2.5 percent rise in the interest rate. Top earners see a loss in financial wealth however their income share rises with higher interest rates.Top earners will want to reaccumulate their pre-crises level of financial wealth by increasing lending to bottom earners which leads debt to income ratios to return to pre-crises levels after a decade."
   ]
  },
  {
   "cell_type": "markdown",
   "metadata": {},
   "source": [
    "### Counterfactual Experiment: A fall in Income Inequality"
   ]
  },
  {
   "cell_type": "markdown",
   "metadata": {},
   "source": [
    "A simulation with the model where experiences a series of shocks that brings it back to its 1983 level sees an increase in consumption for bottom earners as well as a deleveraging which lowers the probability of a crisis significantly. \n"
   ]
  },
  {
   "cell_type": "code",
   "execution_count": null,
   "metadata": {},
   "outputs": [],
   "source": []
  }
 ],
 "metadata": {
  "kernelspec": {
   "display_name": "Python 3",
   "language": "python",
   "name": "python3"
  },
  "language_info": {
   "codemirror_mode": {
    "name": "ipython",
    "version": 3
   },
   "file_extension": ".py",
   "mimetype": "text/x-python",
   "name": "python",
   "nbconvert_exporter": "python",
   "pygments_lexer": "ipython3",
   "version": "3.7.3"
  }
 },
 "nbformat": 4,
 "nbformat_minor": 2
}
