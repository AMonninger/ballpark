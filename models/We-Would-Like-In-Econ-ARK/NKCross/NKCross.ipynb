{
 "cells": [
  {
   "cell_type": "markdown",
   "id": "d1e1394c-b184-48cb-aa98-978c8d770b18",
   "metadata": {},
   "source": [
    "### New Keynesian Cross: Bilbiie 2020"
   ]
  },
  {
   "cell_type": "markdown",
   "id": "12982804-4e21-4e49-adae-2c27cc037fa8",
   "metadata": {},
   "source": [
    "### Motivation:\n",
    "The idea of the Keynesian Cross and with it the Fiscal Multiplier which is $\\frac{1}{MPC}$ hinges on homogeneous agents. In case agents have different MPCs, the dynamics change.\n",
    "\n",
    "Bilbiie (2020) creates an analytical framework how to transfer the idea of the Keynesian Cross into new keynesian models with representative and heterogeneous agents (RANK, TANK and HANK). As a result, the exercise affords analytical insights into monetary, fiscal, and forward guidance multipliers."
   ]
  },
  {
   "cell_type": "markdown",
   "id": "5fff020b-2b55-4662-992c-36e2a7f7c814",
   "metadata": {},
   "source": [
    "### Reference:\n",
    "Bilbiie, Florin O. \"The new Keynesian cross.\" Journal of Monetary Economics 114 (2020): 90-108."
   ]
  },
  {
   "cell_type": "code",
   "execution_count": null,
   "id": "4c65d322-08db-4072-b5ea-e68bfba43365",
   "metadata": {},
   "outputs": [],
   "source": []
  }
 ],
 "metadata": {
  "kernelspec": {
   "display_name": "Python 3 (ipykernel)",
   "language": "python",
   "name": "python3"
  },
  "language_info": {
   "codemirror_mode": {
    "name": "ipython",
    "version": 3
   },
   "file_extension": ".py",
   "mimetype": "text/x-python",
   "name": "python",
   "nbconvert_exporter": "python",
   "pygments_lexer": "ipython3",
   "version": "3.8.11"
  }
 },
 "nbformat": 4,
 "nbformat_minor": 5
}
