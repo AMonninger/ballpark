{
 "cells": [
  {
   "cell_type": "markdown",
   "metadata": {},
   "source": [
    "## [Optimal Life-Cycle Asste Allocation: Understanding the Empirial Evidence (2005)](http://faculty.london.edu/fgomes/gm.pdf)\n",
    "\n",
    "\n",
    "- Authors: Francisco Gomes and Alexander Michaelides\n",
    "- Notebook by Zixuan Huang\n",
    "- 2019 Fall"
   ]
  },
  {
   "cell_type": "markdown",
   "metadata": {},
   "source": [
    "## Abstract\n",
    "\n",
    "- The paper finds a way to match stock market participation rates and asset allocation decisions conditional on participation, by using a life-cycle model with uninsurable labor income risk and moderate risk aversion, where the labor income risk is **idiosyncratic** and the degree of risk aversion is **heterogenous**. \n",
    "- They found that households with low risk aversion smooth earnings shocks with a small buffer stock of assets, and consequently most of them never invest in equities. Endogenously, stockholders are more risk averse, but they still do not invest their portfolios fully in stocks."
   ]
  },
  {
   "cell_type": "markdown",
   "metadata": {},
   "source": [
    "## Empirical Evidence\n",
    "\n",
    "- In most industrialized countries, stock market participation rates have increased substantially. A large share of population, however, still do not own stocks either directly or indirectly (through pension funds etc.) \n",
    "> In U.S., the stock market participation rate is close to 50%.\n",
    "\n",
    "- Even for those households who do own stocks, a significant proportion of their portfilios are not in stock. \n",
    "> Conditional on stock market participation, the average equity holdings as a share of financial wealth for stock market participation is 54.8%\n",
    "\n",
    "- Participation rate goes up during working life and might go down during retirement.\n",
    "\n",
    "- There is no clear pattern of equity holdings over the life cycle. "
   ]
  },
  {
   "cell_type": "markdown",
   "metadata": {},
   "source": [
    "## Model\n",
    "\n",
    "> ### ***Key features: Fixed entry cost; Epstein-Zin utility function; Preference heterogeneity***"
   ]
  },
  {
   "cell_type": "markdown",
   "metadata": {},
   "source": [
    "### Preferences\n",
    "\n",
    "- Discrete time; agents live for a maximum of age 100; conditional being alive at time t, the probability that a consumer is alive at t+1 is $p_t$.\n",
    "\n",
    "- Epstein-Zin utility function\n",
    "\n",
    "> \\begin{align}\n",
    "V_t=\\{(1-\\beta p_t) C_t^{1-1/\\varphi}+\\beta E_t[p_t[V_{t+1}^{1-\\rho}]+(1-p_t)b\\frac{(X_{t+1}/b)^{1-\\rho}}{1-\\rho}]^\\frac{1-1/\\varphi}{1-\\rho}\\}^\\frac{1}{1-1/\\varphi}              \\label{eq1}\\tag{1}\\\\\n",
    "\\end{align} \n",
    "\n",
    "where $\\rho$ is the coefficient of RRA, $\\varphi$ is the elasticity of intertemporal substitution (EIS), $\\beta$ is the discount factor and $b$ determines the strength of the bequest motive.\n",
    "\n",
    "- Given the prescence of a bequest motive, the terminal condition for the recursive equation $(1)$ is:\n",
    "> \\begin{align}\n",
    "V_{T+1}=b \\frac{(X_{T+1}/b)^{1-\\rho}}{1-\\rho} \\label{eq2}\\tag{2}\\\\\n",
    "\\end{align}\n",
    "\n"
   ]
  },
  {
   "cell_type": "markdown",
   "metadata": {},
   "source": [
    "### Labor income process\n",
    "\n",
    "- \\begin{align}\n",
    "Y_{it}=P_{it}U_{it} \\label{eq3}\\tag{3}\\\\\n",
    "\\end{align}\n",
    "\n",
    "<p><p>\n",
    "\n",
    "- \\begin{align} \n",
    "P_{it}=exp(f(t,Z_{it}))P_{it-1}N_{it} \\label{eq4}\\tag{4}\\\\\n",
    "\\end{align}\n",
    "\n",
    "<p><p>\n",
    "\n",
    "where $f(t,Z_{it})$ is a deterministic function of age and household characteristics $Z_{it}$, $P_{it}$ is a permanent component with innovation $N_{it}$, and $U_{it}$ is a transitory component.\n",
    "- Retirement is deterministic and exogenous, with all households retiring at age 65; Earnings in retirement are given by $Y_{it}=\\lambda P_{iK}$, where $K$ denotes the period of retiring, and $\\lambda$ is the replacement ratio (a scalar between zero and one)\n",
    "- For each age ($t$), the percentage of household income that is dedicated to housing expenditure ($h_t$) is estimated according to the Panel Study of Income Dynamics and is substracted from the measure of disposal income. "
   ]
  },
  {
   "cell_type": "markdown",
   "metadata": {},
   "source": [
    "### Financial Assets\n",
    "- There are two financial assets, one riskless (e.g. Treasury bills, cash) and one risky (stocks). The riskless asset yields a constant gross return, $R^f$, while the return on the risky asset is given by \n",
    "> \\begin{align}\n",
    "R_{t+1}^S-R^f=\\mu + \\epsilon_{t+1} \\label{eq5}\\tag{5}\\\\\n",
    "\\end{align} <br>\n",
    "where $\\epsilon$ follows a normal distribution with mean 0 and standard devitation $\\sigma_{\\epsilon}^2$.\n",
    "- The positive correlation between stock returns and earnings shocks is allowed: $\\phi_N$ denotes the correlation coefficient between stock returns and permanent income shocks, while $\\phi_U$ is for tansitory shocks.\n",
    "- Before investing in stocks for the first time, the investor must pay for a fixed lump sum cost, $F*P_{it}$. This is scaled by the level of permanent component of labor income as this significantly simplies the solution of the model and also motivated by the interpretation of the entry fee as the opportunity cost of time. "
   ]
  },
  {
   "cell_type": "markdown",
   "metadata": {},
   "source": [
    "### Wealth Accumulation\n",
    "\n",
    "- Cash on hand is denoted as the liquid resources for consumption and saving; Dummy variable $I_p$ that is equal to one when the fixed entry cost is incurred for the first time and is zero otherwise. The household's next period cash on hand ($X_{i,t+1}$) is given by:\n",
    "> \\begin{align}\n",
    "X_{i,t+1}=S_{it}R_{t+1}^S+B_{it}R^f+(1-h_t)Y_{i,t+1}-FI_pP_{i,t+1} \\label{eq6}\\tag{6}\\\\\n",
    "\\end{align} <br>\n",
    "where $S_{it}$ and $B_{it}$ denote respectively stock holdings and riskless asset holdings at time $t$, and $h_t$ is the fraction of income dedicated to housing-related expenditures. \n",
    "\n",
    "- Since the households must allocate cash on hand ($X_{it}$) between consumption expenditures and savings, cash on hand is given by:\n",
    "> \\begin{align}\n",
    "X_{it}=C_{it}+S_{it}+B_{it} \\label{eq7}\\tag{7}\\\\\n",
    "\\end{align}\n",
    "\n",
    "- Borrowing against future labor income is prevented, therefore, the following restrictions are imposed: \n",
    "> \\begin{align}\n",
    "B_{it}\\geq0 \\label{eq8}\\tag{8}\\\\\n",
    "\\end{align}\n",
    ">\n",
    "> \\begin{align}\n",
    "S_{it}\\geq0 \\label{eq9}\\tag{9}\\\\\n",
    "\\end{align}"
   ]
  },
  {
   "cell_type": "markdown",
   "metadata": {},
   "source": [
    "### Optimization\n",
    "- The complete optimization problem is \n",
    "> \\begin{align}\n",
    "max E(V_0) \\label{eq10}\\tag{10}\\\\ \n",
    "\\end{align} <br>\n",
    "by choosing $(S_{it}, B_{it})_{t=1}^{T}$, where $V_0$ is given by equation (1) and equation (2) and is subject to the constraints given by equations (5) to (9), and the stochastic labor income process is given by equation (3) and (4)\n",
    "\n",
    "- The analytical solutions do not exist. Therefore a numerical solution method based on the maximization of the value function to derive the optimal decision rules is used. "
   ]
  },
  {
   "cell_type": "markdown",
   "metadata": {},
   "source": [
    "### Calibration\n",
    "- Preference parameters (baseline): $\\rho=5$, $\\varphi=0.2$, $\\beta=0.96$, and $b$=2.5; With preference heterogeneity, 50% of the population with low risk aversion and low EIS ($\\rho=1.2, \\varphi=0.2$) and the other 50% with moderate risk aversion and moderate EIS ($\\rho=5,\\varphi=0.5$) are incorporated to the model. \n",
    "\n",
    "- Labor income process: $\\sigma_u=0.15$, $\\sigma_n=0.1$\n",
    "\n",
    "- Interest rate: $(R^f-1)=2\\%$; the stock return process: mean equity premium $\\mu=4\\%$ and standard deviation $\\sigma_{\\epsilon}=18\\%$\n",
    "\n",
    "- Correlation between stock returns and income shocks: $\\phi_{N}=0.15$ and $\\phi_{U}=0.0$ for benchmark calibration\n",
    "\n",
    "- Fixed cost: two limit cases: 0 and 2.5% as a share of household's expectated annual income.\n",
    "\n",
    "- Housing expenditure: $h_t=max(A+B_1*age+B_2*age^2+B_3*age^3,0)$, where the parameters are estimated by using the data from the Panel Study of Income Dynamics"
   ]
  },
  {
   "cell_type": "markdown",
   "metadata": {},
   "source": [
    "## Conclusions"
   ]
  },
  {
   "cell_type": "markdown",
   "metadata": {},
   "source": [
    "- The paper presents a life-cycle model with idiosyncractic and uninsurable labor income risks to explain two important empirical observations: low stock market participation rates in the population as a whole, and moderate equity holdings for stock market participants. \n",
    "- Households with low risk aversion and low EIS accumulate very little wealth and as a result, they do not invest in equities; households with high risk aversion and high EIS accumulate more wealth and therefore have a stronger incentive to pay for the fixed entry cost, and they are the ones who enter the stock market. Since they are more risk averse, they wouldn't like to invest much in the stock market. "
   ]
  },
  {
   "cell_type": "markdown",
   "metadata": {},
   "source": [
    "## Comments\n",
    "\n",
    "- The key feature making the model fit the empirical evidence (low stock market participation rate and the low share of investment in stock market conditional on participation) well is Epstein-Zin utility function. This specific utility function makes it possible that the degree of risk aversion is unrelated with elasticity of intertemporal substitution (EIS). \n",
    "\n",
    "- Due to the separability of risk aversion and EIS, the assumption that the population is composed of two groups (a group with low risk aversion and low EIS, and a group with high risk aversion and high EIS) leads to the result that people who enter the stock market are **endougously** more risk averse and thus not investing all their portfolio into the stock market. \n",
    "\n",
    "- However, the underlying reason why this utility form is reasonable to accomodate data is absent. "
   ]
  },
  {
   "cell_type": "code",
   "execution_count": null,
   "metadata": {},
   "outputs": [],
   "source": []
  }
 ],
 "metadata": {
  "kernelspec": {
   "display_name": "Python 3",
   "language": "python",
   "name": "python3"
  },
  "language_info": {
   "codemirror_mode": {
    "name": "ipython",
    "version": 3
   },
   "file_extension": ".py",
   "mimetype": "text/x-python",
   "name": "python",
   "nbconvert_exporter": "python",
   "pygments_lexer": "ipython3",
   "version": "3.7.3"
  }
 },
 "nbformat": 4,
 "nbformat_minor": 2
}
